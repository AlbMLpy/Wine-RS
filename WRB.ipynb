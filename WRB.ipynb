{
 "cells": [
  {
   "cell_type": "code",
   "execution_count": 1,
   "metadata": {},
   "outputs": [
    {
     "name": "stderr",
     "output_type": "stream",
     "text": [
      "/home/albert/anaconda3/lib/python3.7/site-packages/statsmodels/tools/_testing.py:19: FutureWarning: pandas.util.testing is deprecated. Use the functions in the public API at pandas.testing instead.\n",
      "  import pandas.util.testing as tm\n"
     ]
    }
   ],
   "source": [
    "import telegram\n",
    "import pickle\n",
    "import yaml\n",
    "from googlesearch import search\n",
    "\n",
    "from telegram import (\n",
    "    Poll,\n",
    "    ParseMode,\n",
    "    KeyboardButton,\n",
    "    KeyboardButtonPollType,\n",
    "    ReplyKeyboardMarkup,\n",
    "    ReplyKeyboardRemove,\n",
    "    Update,\n",
    "    Bot,\n",
    ")\n",
    "\n",
    "from telegram.ext import (\n",
    "    Updater,\n",
    "    CommandHandler,\n",
    "    PollAnswerHandler,\n",
    "    PollHandler,\n",
    "    MessageHandler,\n",
    "    Filters,\n",
    "    CallbackContext,\n",
    "    Handler,\n",
    "    CallbackQueryHandler,\n",
    "    PollHandler,\n",
    ")\n",
    "\n",
    "import logging\n",
    "\n",
    "from Recommender import (\n",
    "    Recommender,\n",
    "    Preprocessor,\n",
    "    LDAu,\n",
    "    User\n",
    ")\n",
    "\n",
    "logging.basicConfig(\n",
    "    format='%(asctime)s - %(name)s - %(levelname)s - %(message)s',\n",
    "    level=logging.INFO,\n",
    ")"
   ]
  },
  {
   "cell_type": "markdown",
   "metadata": {},
   "source": [
    "## Get QA dictionary:"
   ]
  },
  {
   "cell_type": "code",
   "execution_count": 2,
   "metadata": {},
   "outputs": [],
   "source": [
    "with open('questionnaire.yaml') as f:\n",
    "    survey_dict = yaml.safe_load(f)"
   ]
  },
  {
   "cell_type": "code",
   "execution_count": 3,
   "metadata": {},
   "outputs": [
    {
     "data": {
      "text/plain": [
       "\"Assuming you'd never gain a kilo, if you could only eat one of these chocolates for the rest of your life, which would it be?:\""
      ]
     },
     "execution_count": 3,
     "metadata": {},
     "output_type": "execute_result"
    }
   ],
   "source": [
    "survey_dict['q1'][0][0]"
   ]
  },
  {
   "cell_type": "code",
   "execution_count": 4,
   "metadata": {},
   "outputs": [
    {
     "data": {
      "text/plain": [
       "['White chocolate', 'Milk chocolate', 'Dark chocolate']"
      ]
     },
     "execution_count": 4,
     "metadata": {},
     "output_type": "execute_result"
    }
   ],
   "source": [
    "survey_dict['q1'][1]"
   ]
  },
  {
   "cell_type": "markdown",
   "metadata": {},
   "source": [
    "## Get Recommender:"
   ]
  },
  {
   "cell_type": "code",
   "execution_count": 5,
   "metadata": {},
   "outputs": [],
   "source": [
    "n_topics = 14 \n",
    "\n",
    "with open('recommender.pickle', 'rb') as f:\n",
    "     advisor = pickle.load(f)"
   ]
  },
  {
   "cell_type": "markdown",
   "metadata": {},
   "source": [
    "## Create a bot:"
   ]
  },
  {
   "cell_type": "code",
   "execution_count": 6,
   "metadata": {},
   "outputs": [],
   "source": [
    "def start(update: Update, context: CallbackContext) -> None:\n",
    "    \"\"\"Inform user about what this bot can do\"\"\"\n",
    "    \n",
    "    print(\"In question ...\")\n",
    "    update.message.reply_text(\n",
    "        'Please select /poll to get a Poll questionnaire about wine preferences'\n",
    "    )\n",
    "\n",
    "def poll(update: Update, context: CallbackContext) -> None:\n",
    "    \"\"\"Sends a predefined poll\"\"\"\n",
    "    \n",
    "    \n",
    "    arr_q = list(survey_dict.keys()) \n",
    "    array_of_answers = [0] * len(arr_q)\n",
    "    \n",
    "    print(arr_q, array_of_answers)\n",
    "    \n",
    "    message = context.bot.send_poll(\n",
    "        update.effective_chat.id,\n",
    "        context.bot_data['q1'][0][0],\n",
    "        context.bot_data['q1'][1],\n",
    "        is_anonymous=False,\n",
    "        allows_multiple_answers=False,\n",
    "    )\n",
    "    \n",
    "    payload = {\n",
    "        message.poll.id: {\n",
    "            \"questions\": survey_dict['q1'][1],\n",
    "            \"message_id\": message.message_id,\n",
    "            \"chat_id\": update.effective_chat.id,\n",
    "            \"answers\": 0,\n",
    "            \"count\": 1,\n",
    "            \"arr_q\": arr_q,\n",
    "            \"array_of_answers\": array_of_answers,\n",
    "        }\n",
    "    }\n",
    "    context.bot_data.update(payload)\n",
    "\n",
    "    \n",
    "def receive_poll_answer(update: Update, context: CallbackContext) -> None:\n",
    "    \"\"\"Summarize a users poll vote\"\"\"\n",
    "    \n",
    "    answer = update.poll_answer\n",
    "    poll_id = answer.poll_id\n",
    "    \n",
    "    num_calls = context.bot_data[poll_id]['count']\n",
    "    print(f\"\\nNUM CALLS!!!:{num_calls}\\n\")\n",
    "    \n",
    "    len_arr_q = len(context.bot_data[poll_id]['arr_q'])\n",
    "    if num_calls < len_arr_q:\n",
    "        context.bot_data[poll_id]['array_of_answers'][num_calls - 1] = answer.option_ids\n",
    "    \n",
    "    else:\n",
    "        context.bot_data[poll_id]['array_of_answers'][num_calls - 1] = answer.option_ids\n",
    "        \n",
    "        text = [survey_dict[context.bot_data[poll_id]['arr_q'][i]][1]\\\n",
    "                [context.bot_data[poll_id]['array_of_answers'][i][0]] for i in range(len_arr_q)]\n",
    "        \n",
    "        print(text)\n",
    "        \n",
    "        user = User(\n",
    "            taste=\" \".join(text),\n",
    "            country=None,\n",
    "            price_range=None,\n",
    "            points_range=None,\n",
    "        )\n",
    "        \n",
    "        top = 5\n",
    "        top_wine, ranking, lda_u, tfidf_u = advisor.recommend(\n",
    "            query=user, top=top, project=False,\n",
    "        )\n",
    "        \n",
    "        context.bot.send_message(\n",
    "            chat_id=context.bot_data[poll_id][\"chat_id\"],\n",
    "            text=\"Let's get some wine Recommendations:\\n\"\n",
    "        )\n",
    "        \n",
    "        context.bot.send_message(\n",
    "            chat_id=context.bot_data[poll_id][\"chat_id\"],\n",
    "            text=text\n",
    "        )\n",
    "        \n",
    "        for wine_ind in range(top):\n",
    "            query = top_wine['title'].iloc[wine_ind]\n",
    "            cnt = 0\n",
    "            for result in search(query, tld=\"com\", num=10, stop=10, pause=0.01):\n",
    "                cnt += 1\n",
    "                if \"vivino\" in result:\n",
    "                    context.bot.send_message(\n",
    "                        chat_id=context.bot_data[poll_id][\"chat_id\"],\n",
    "                        text=result,\n",
    "                    )\n",
    "                    break\n",
    "                if cnt == 10:\n",
    "                    context.bot.send_message(\n",
    "                        chat_id=context.bot_data[poll_id][\"chat_id\"],\n",
    "                        text=result,\n",
    "                    )\n",
    "        \n",
    "        context.bot.send_message(\n",
    "            chat_id=context.bot_data[poll_id][\"chat_id\"],\n",
    "            text=\"You got all the recommendations!\"\n",
    "        )\n",
    "        \n",
    "        print(\"The End.\")\n",
    "        return\n",
    "\n",
    "    message = context.bot.send_poll(\n",
    "        context.bot_data[poll_id][\"chat_id\"],\n",
    "        context.bot_data[context.bot_data[poll_id]['arr_q'][num_calls]][0][0], \n",
    "        context.bot_data[context.bot_data[poll_id]['arr_q'][num_calls]][1], \n",
    "        is_anonymous=False,\n",
    "        allows_multiple_answers=False,\n",
    "    )\n",
    "    \n",
    "    print(context.bot_data[poll_id][\"chat_id\"])\n",
    "    \n",
    "    payload = {\n",
    "        message.poll.id: {\n",
    "            \"questions\": survey_dict['q1'][1],\n",
    "            \"message_id\": message.message_id,\n",
    "            \"chat_id\": context.bot_data[poll_id][\"chat_id\"],\n",
    "            \"answers\": 0,\n",
    "            \"count\": num_calls + 1,\n",
    "            \"arr_q\": context.bot_data[poll_id][\"arr_q\"],\n",
    "            \"array_of_answers\": context.bot_data[poll_id]['array_of_answers'],\n",
    "        }\n",
    "    }\n",
    "    context.bot_data.update(payload)"
   ]
  },
  {
   "cell_type": "code",
   "execution_count": 7,
   "metadata": {},
   "outputs": [],
   "source": [
    "TOKEN = \"YOUR TOKEN\"\n",
    "updater = Updater(token=TOKEN, use_context=True)\n",
    "dispatcher = updater.dispatcher\n",
    "\n",
    "\n",
    "dispatcher.add_handler(CommandHandler('start', start))\n",
    "dispatcher.add_handler(CommandHandler('poll', poll))\n",
    "dispatcher.add_handler(PollAnswerHandler(receive_poll_answer))"
   ]
  },
  {
   "cell_type": "code",
   "execution_count": 8,
   "metadata": {},
   "outputs": [],
   "source": [
    "dispatcher.bot_data.update(survey_dict)"
   ]
  },
  {
   "cell_type": "code",
   "execution_count": null,
   "metadata": {},
   "outputs": [],
   "source": [
    "updater.start_polling()\n",
    "\n",
    "# Run the bot until the user presses Ctrl-C or the process receives SIGINT,\n",
    "# SIGTERM or SIGABRT\n",
    "updater.idle()"
   ]
  }
 ],
 "metadata": {
  "kernelspec": {
   "display_name": "Python 3",
   "language": "python",
   "name": "python3"
  },
  "language_info": {
   "codemirror_mode": {
    "name": "ipython",
    "version": 3
   },
   "file_extension": ".py",
   "mimetype": "text/x-python",
   "name": "python",
   "nbconvert_exporter": "python",
   "pygments_lexer": "ipython3",
   "version": "3.7.4"
  }
 },
 "nbformat": 4,
 "nbformat_minor": 4
}
